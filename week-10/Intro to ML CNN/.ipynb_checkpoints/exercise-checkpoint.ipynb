{
 "cells": [
  {
   "attachments": {},
   "cell_type": "markdown",
   "metadata": {},
   "source": [
    "# Exercise: Convolutional Neural Networks"
   ]
  },
  {
   "cell_type": "markdown",
   "metadata": {},
   "source": [
    "In this exercise session, we will learn about PyTorch, one of the most used framework for deep learning in python. We will use it to implement our own neural networks and train them through gradient descent.\n",
    "\n",
    "\n",
    "We will use the following packages:\n",
    "\n",
    "`torch`: The framework we will use for training deep nets, with useful sub-modules `torch.nn` and `torch.nn.functional` that we import below.\n",
    "\n",
    "`torchvision`: Helper package consisting of popular datasets, model architectures, and common image transformations for computer vision. We will use it for loading the MNIST dataset and to perform simple data transformations.\n",
    "\n",
    "`torchinfo`: Helper package for visualizing deep net architectures."
   ]
  },
  {
   "cell_type": "code",
   "execution_count": 3,
   "metadata": {},
   "outputs": [
    {
     "ename": "ModuleNotFoundError",
     "evalue": "No module named 'torchinfo'",
     "output_type": "error",
     "traceback": [
      "\u001b[0;31m---------------------------------------------------------------------------\u001b[0m",
      "\u001b[0;31mModuleNotFoundError\u001b[0m                       Traceback (most recent call last)",
      "\u001b[0;32m/var/folders/vt/t1qn84c15kvd_fh9hr4kvj840000gn/T/ipykernel_57061/1143033819.py\u001b[0m in \u001b[0;36m<module>\u001b[0;34m\u001b[0m\n\u001b[1;32m      9\u001b[0m \u001b[0;32mfrom\u001b[0m \u001b[0mtorchvision\u001b[0m\u001b[0;34m.\u001b[0m\u001b[0mdatasets\u001b[0m \u001b[0;32mimport\u001b[0m \u001b[0mMNIST\u001b[0m\u001b[0;34m\u001b[0m\u001b[0;34m\u001b[0m\u001b[0m\n\u001b[1;32m     10\u001b[0m \u001b[0;32mfrom\u001b[0m \u001b[0mtorchvision\u001b[0m\u001b[0;34m.\u001b[0m\u001b[0mtransforms\u001b[0m \u001b[0;32mimport\u001b[0m \u001b[0mToTensor\u001b[0m\u001b[0;34m,\u001b[0m \u001b[0mLambda\u001b[0m\u001b[0;34m,\u001b[0m \u001b[0mCompose\u001b[0m\u001b[0;34m\u001b[0m\u001b[0;34m\u001b[0m\u001b[0m\n\u001b[0;32m---> 11\u001b[0;31m \u001b[0;32mfrom\u001b[0m \u001b[0mtorchinfo\u001b[0m \u001b[0;32mimport\u001b[0m \u001b[0msummary\u001b[0m\u001b[0;34m\u001b[0m\u001b[0;34m\u001b[0m\u001b[0m\n\u001b[0m\u001b[1;32m     12\u001b[0m \u001b[0;32mimport\u001b[0m \u001b[0mmatplotlib\u001b[0m\u001b[0;34m.\u001b[0m\u001b[0mpyplot\u001b[0m \u001b[0;32mas\u001b[0m \u001b[0mplt\u001b[0m\u001b[0;34m\u001b[0m\u001b[0;34m\u001b[0m\u001b[0m\n\u001b[1;32m     13\u001b[0m \u001b[0;34m\u001b[0m\u001b[0m\n",
      "\u001b[0;31mModuleNotFoundError\u001b[0m: No module named 'torchinfo'"
     ]
    }
   ],
   "source": [
    "# 3rd party\n",
    "import numpy as np\n",
    "\n",
    "# We import PyTorch and some of its internal modules\n",
    "import torch\n",
    "import torch.nn as nn\n",
    "import torch.nn.functional as F\n",
    "from torch.utils.data import DataLoader\n",
    "from torchvision.datasets import MNIST\n",
    "from torchvision.transforms import ToTensor, Lambda, Compose\n",
    "from torchinfo import summary\n",
    "import matplotlib.pyplot as plt\n",
    "\n",
    "# Project files.\n",
    "from helpers import accuracy, DrawingPad"
   ]
  },
  {
   "cell_type": "code",
   "execution_count": null,
   "metadata": {},
   "outputs": [],
   "source": [
    "%matplotlib notebook\n",
    "%load_ext autoreload\n",
    "%autoreload 2"
   ]
  },
  {
   "cell_type": "markdown",
   "metadata": {},
   "source": [
    "# 1 PyTorch\n",
    "\n",
    "## 1.1 Motivation\n",
    "\n",
    "In the first part of the exercise we will revisit the MNIST dataset of hand-written digits, and we will train deep net models to classify the digits. Instead of doing all the hard coding work manually, we will simplify our life by using a deep learning framework: **PyTorch**.\n",
    "\n",
    "Last week we have implemented our own Multi-Layer Perceptron (MLP), where we defined both the forward pass and back-propagation together with a simple optimizer (stochastic gradient descent, SGD, update rule) and successfully trained it to perform classification. Given the amount of code written, one can imagine that prototyping with various NN architectures and training strategies might get tedious. That is where PyTorch (and other deep learning frameworks) come into play.\n",
    "\n",
    "## 1.2 About PyTorch\n",
    "\n",
    "[PyTorch](https://pytorch.org/) is an optimized tensor library for deep learning using GPUs and CPUs. It allows\n",
    "for fast prototyping by providing high-level access to all necessary building blocks, including NN layers, activation functions, loss functions, and optimizers, to name a few. Most importantly, however, PyTorch implements the [autograd](https://pytorch.org/docs/stable/autograd.html) package, which allows for automatic differentiation of the operations we use to define NN architectures. In other words, one only has to implement the forward pass, namely to combine desired layers, while the **backpropagation is computed automatically**.\n",
    "\n",
    "## 1.3 Basic pipeline\n",
    "\n",
    "To define and train deep net models, one would usually implement the following steps:\n",
    "\n",
    "    1. Load the dataset.\n",
    "    2. Define and instantiate a deep net architecture.\n",
    "    3. Choose or implement a loss function (such as the mean squared error).\n",
    "    4. Choose and instantiate an optimizer (such as the SGD).\n",
    "    5. Repeating multiple time for the whole dataset, for each batch in the dataset:\n",
    "        5.1. Load a batch.\n",
    "        5.2. Run a forward pass through your model.\n",
    "        5.3. Compute the loss.\n",
    "        5.4. Run a backward pass, i.e., compute gradients of the loss w.r.t. the trainable parameters (weights).\n",
    "        5.5. Update the weights using the optimizer.\n",
    "        5.6. Zero-out the accumulated gradients before the next iteration.\n",
    "        \n",
    "We will see this exact pipeline in our code as well.\n",
    "\n",
    "## 1.4 Essential bulding blocks\n",
    "\n",
    "This section gives a high-level summary of the most important components representing the bare minimum that you will need to start playing with PyTorch and deep net models. You might want to skim through the official tutorials as well, namely [What is PyTorch](https://pytorch.org/tutorials/beginner/deep_learning_60min_blitz.html) and [Neural Networks](https://pytorch.org/tutorials/beginner/blitz/neural_networks_tutorial.html#sphx-glr-beginner-blitz-neural-networks-tutorial-py). Here is the list of the components that will be explained in more detail along with the code blocks.\n",
    "\n",
    "  - **nn.Module**: Base class for NN architectures.\n",
    "  - **criterion**: A loss function.\n",
    "  - **backward-pass**: Derivatives computed by the auto-differentiation system.\n",
    "  - **optimizer**: Updates the trainable parameters (weights) during training."
   ]
  },
  {
   "cell_type": "markdown",
   "metadata": {},
   "source": [
    "## 1.5 Loading the data\n",
    "\n",
    "We are at step (1) of the training pipeline where we prepare the data. In PyTorch, loading the data is traditionally performed by creating:\n",
    "* a *dataset* that manages the loading and transformations of the data\n",
    "* and a *dataloader* that is a Python *iterator*, which returns the batches of data and associated labels from our dataset.\n",
    "\n",
    "PyTorch provides us with the `Dataset` and `DataLoader` classes for this.\n",
    "\n",
    "As was the case of previous week, we will work with the [MNIST](https://en.wikipedia.org/wiki/MNIST_database) dataset, where each sample is stored as a $28 \\times 28$ pixels grayscale image. The data samples are loaded as `torch.Tensor` data type, multi-dimentional matrices similar to `numpy.ndarray`.\n",
    "\n",
    "`MNIST` below is a sub-class of `Dataset`, which will download the dataset when used for the first time. It returns an image $x$ and its true label $y$. The dataloader will then prepare batches out of these images and labels."
   ]
  },
  {
   "cell_type": "code",
   "execution_count": null,
   "metadata": {},
   "outputs": [
    {
     "name": "stdout",
     "output_type": "stream",
     "text": [
      "Loaded 60000 train and 10000 valid samples.\n"
     ]
    }
   ],
   "source": [
    "batch_size = 128\n",
    "\n",
    "# Dataset and DataLoader for MLP.\n",
    "dataset_train = MNIST('data', train=True, download=True, transform=ToTensor())\n",
    "dataset_test = MNIST('data', train=False, download=True, transform=ToTensor())\n",
    "dataloader_train = DataLoader(dataset_train, batch_size=batch_size, shuffle=True)\n",
    "dataloader_test = DataLoader(dataset_test, batch_size=batch_size, shuffle=False)\n",
    "\n",
    "print('Loaded {} train and {} valid samples.'.format(len(dataset_train), len(dataset_test)))"
   ]
  },
  {
   "cell_type": "markdown",
   "metadata": {},
   "source": [
    "## 1.6 Multi-Layer Perceptron (MLP)\n",
    "\n",
    "### Architecture\n",
    "\n",
    "We are at step (2) of the training pipeline. We will start by implementing an MLP consisting of a 1D input layer (we flatten, i.e., vectorize, the input image) of shape ($784$, ), $3$ hidden fully connected layers and an output layer of shape ($10$, ), as we have $10$ classes.\n",
    "\n",
    "As you saw last week, one layer of an MLP computes the following function:\n",
    "\n",
    "$$ \\mathbf{y} = \\sigma \\left(\\mathbf{W}^\\top\\mathbf{x} + \\mathbf{b}\\right), $$\n",
    "\n",
    "where $\\sigma$ is the activation, $\\mathbf{W}$ is the weight, and $\\mathbf{b}$ the bias. The type of layer that computes $\\mathbf{W}^\\top\\mathbf{x} + \\mathbf{b}$ is referred to as *fully-connected* (FC) because every input is connected to every output (recall the MLP diagram from the lectures). Additionally, we also call them *linear* layers because they compute a linear function with respect to their input (plus a bias).\n",
    "\n",
    "### Optimization criterion\n",
    "\n",
    "We would like to interpret the output vector $\\hat{\\mathbf{y}} \\in \\mathbb{R}^{10}$ as the probabilities of data sample $\\mathbf{x} \\in \\mathbb{R}^{784}$ belonging to each class $j \\in \\{0, 1, 2, ..., 9\\}$. Therefore, we will make use of the activation function **softmax**, defined as\n",
    "\n",
    "$$ \\hat{y}_j = P(\\text{class}=j|\\mathbf{z}) = \\mathrm{Softmax}_j(\\mathbf{z}) = \\frac{\\exp{z_j}}{\\sum_{k=0}^{9}{\\exp{z_k}}}, $$\n",
    "\n",
    "on the final output of our network $\\mathbf{z}$ (these values pre-softmax are referred to as \"logits\").\n",
    "The softmax guarantees that $\\sum_{j=0}^{9}\\hat{y}_{j} = 1$ and $\\hat{y}_j \\geq 0, \\, \\forall j$, meaning that the predicted vector $\\hat{\\mathbf{y}}$ is indeed a valid probability distribution over classes.\n",
    "\n",
    "Finally, we would like to match the predicted distribution $\\hat{\\mathbf{y}}$ to the ground truth (GT) one $\\mathbf{y}$, where $\\mathbf{y}$ is given as a one-hot encoding ($\\mathbf{y}$ is all zeros except for a $1$ at the index $j$, if $j$ is the correct class to be predicted). The optimization criterion of choice is then to minimize the [**cross-entropy**](https://en.wikipedia.org/wiki/Cross_entropy) (CE) of $\\hat{\\mathbf{y}}$ and $\\mathbf{y}$. Therefore our final loss function $\\mathcal{L}$ is defined as:\n",
    "\n",
    "$$ \\mathcal{L} = \\text{CE}\\left(\\hat{\\mathbf{y}}, \\mathbf{y}\\right).$$\n",
    "\n",
    "Thankfully, PyTorch provides the implementation of $\\mathcal{L}$ that directly works with the logits, **so you will only really need to provide the output $\\mathbf{z}$** (i.e. the 10-dimensional output of your last layer *before* the softmax). We will get back to $\\mathcal{L}$ later.\n",
    "\n",
    "---\n",
    "\n",
    "### nn.Module\n",
    "Each custom NN architecture you choose to implement has to subclass the [`nn.Module`](https://pytorch.org/docs/stable/generated/torch.nn.Module.html?highlight=nn+module#torch.nn.Module), which conveniently keeps track of all the trainable parameters. From the programmer's perspective, you have to implement the constructor (`__init__`) and override the `forward()` function:\n",
    "\n",
    "- **`__init__()`**\n",
    "\n",
    "You will define your layers (e.g., fully connected layer, 2D convolutional layer, etc.) in the constructor, and `nn.Module` will automatically keep track of all the weights these layers contain. Here, we basically prepare and initialized what we need in the network.\n",
    "\n",
    "- **`forward()`**\n",
    "\n",
    "This function really defines the architecture, as you will sequentally call your layers in the desired order. Each time you call `forward()` (every training iteration), the so-called **computational graph** is built. It is a directed acyclic graph (DAG) of nodes corresponding to the operations you have called. Each node defines the derivative of its outputs w.r.t. its inputs. The computational graph is then traversed in the reversed fashion once you call `backward()` and the derivatives are computed.\n",
    "\n",
    "**Note:** PyTorch allows us to use call our model like a function on the input data like `y = model(x)`. This will automatically call the `forward()` function of the model.\n",
    "\n",
    "All the trainable parameters, which your model consists of, can be accessed via a call to `model.parameters()` implemented in `nn.Module`. This comes in handy once instantiating your optimizer as you have to pass all the parameters you want it to manage.\n",
    "\n",
    "---\n",
    "\n",
    "Your task is to define the MLP as depicted in the figure below. Please refer to the documentation and focus on\n",
    "the classes [`nn.Linear`](https://pytorch.org/docs/stable/generated/torch.nn.Linear.html?highlight=nn+linear#torch.nn.Linear) to define the layers and [`F.relu`](https://pytorch.org/docs/stable/generated/torch.nn.functional.relu.html?highlight=f+relu#torch.nn.functional.relu) to call the activation funtion.\n",
    "\n",
    "<img src=\"img/mlp.png\" width=800></img>"
   ]
  },
  {
   "cell_type": "code",
   "execution_count": null,
   "metadata": {},
   "outputs": [],
   "source": [
    "class FC(nn.Module):\n",
    "    \"\"\" Standard Multi layer perceptron for classification into 10 \n",
    "    classes. Consists of 4 FC layers, ReLU activations are used \n",
    "    for the first 3.\n",
    "    \"\"\"\n",
    "    def __init__(self):\n",
    "        \"\"\" Constructor, layers definitions go here. Only specify\n",
    "        those layers which have any trainable parameters (but for\n",
    "        instance not the activation functions as the ones we use \n",
    "        do not have any trainable parameters). \"\"\"\n",
    "        # The following line is needed to initialize the nn.Module properly\n",
    "        super(FC, self).__init__()\n",
    "\n",
    "        ### WRITE YOUR CODE HERE\n",
    "        self.fc1 = nn.Linear(784, 512)\n",
    "        self.fc2 = nn.Linear(512, 256)\n",
    "        self.fc3 = nn.Linear(256,128)\n",
    "        self.fc4 = nn.Linear(128, 10)\n",
    "\n",
    "    def forward(self, x):\n",
    "        \"\"\" Feed-forward pass, this is where the actual computation happens\n",
    "        and the computational graph is built (from scratch each time this \n",
    "        function is called). \"\"\"\n",
    "        # Note: we first flatten the images into vectors\n",
    "        # This is done over the last 3 dimensions: (channel, height, width)\n",
    "        x = x.flatten(-3)\n",
    "        \n",
    "        ### WRITE YOUR CODE HERE\n",
    "        x = F.relu(self.fc1(x))\n",
    "        x = F.relu(self.fc2(x))\n",
    "        x = F.relu(self.fc3(x))\n",
    "        x = self.fc4(x)\n",
    "        return x\n",
    "    \n",
    "# Instantiate the model.\n",
    "model_fc = FC()"
   ]
  },
  {
   "attachments": {},
   "cell_type": "markdown",
   "metadata": {},
   "source": [
    "**Q:** How many learnable parameters (weights) does this model have?\n",
    "\n",
    "**A:**"
   ]
  },
  {
   "cell_type": "markdown",
   "metadata": {},
   "source": [
    "## 1.7 Inspecting the model architecture\n",
    "\n",
    "Let us check the model architecture and see how many trainable parameters we really use. For this purpose we will use the `torchinfo` package.\n",
    "\n",
    "Note the number of trainable parameters."
   ]
  },
  {
   "cell_type": "code",
   "execution_count": null,
   "metadata": {},
   "outputs": [
    {
     "ename": "NameError",
     "evalue": "name 'summary' is not defined",
     "output_type": "error",
     "traceback": [
      "\u001b[0;31m---------------------------------------------------------------------------\u001b[0m",
      "\u001b[0;31mNameError\u001b[0m                                 Traceback (most recent call last)",
      "\u001b[0;32m/var/folders/vt/t1qn84c15kvd_fh9hr4kvj840000gn/T/ipykernel_51140/3237727588.py\u001b[0m in \u001b[0;36m<module>\u001b[0;34m\u001b[0m\n\u001b[0;32m----> 1\u001b[0;31m \u001b[0msummary\u001b[0m\u001b[0;34m(\u001b[0m\u001b[0mmodel_fc\u001b[0m\u001b[0;34m,\u001b[0m \u001b[0minput_size\u001b[0m\u001b[0;34m=\u001b[0m\u001b[0;34m(\u001b[0m\u001b[0;36m1\u001b[0m\u001b[0;34m,\u001b[0m \u001b[0;36m1\u001b[0m\u001b[0;34m,\u001b[0m \u001b[0;36m28\u001b[0m\u001b[0;34m,\u001b[0m \u001b[0;36m28\u001b[0m\u001b[0;34m)\u001b[0m\u001b[0;34m)\u001b[0m  \u001b[0;31m# the first dimension=1 corresponds to the batch size\u001b[0m\u001b[0;34m\u001b[0m\u001b[0;34m\u001b[0m\u001b[0m\n\u001b[0m",
      "\u001b[0;31mNameError\u001b[0m: name 'summary' is not defined"
     ]
    }
   ],
   "source": [
    "summary(model_fc, input_size=(1, 1, 28, 28))  # the first dimension=1 corresponds to the batch size"
   ]
  },
  {
   "cell_type": "markdown",
   "metadata": {},
   "source": [
    "## 1.8 Loss function\n",
    "\n",
    "We are at step (3) of our pipeline. As explained above, our loss function $\\mathcal{L}$ will be $\\text{CE}(\\hat{\\mathbf{y}}, \\mathbf{y})$, which is provided for us by PyTorch, please refer to the documentation of [`nn.CrossEntropyLoss`](https://pytorch.org/docs/stable/generated/torch.nn.CrossEntropyLoss.html#torch.nn.CrossEntropyLoss).\n",
    "\n",
    "**Note:** as explained above, this function will also directly implement the *Softmax* on the predictions, so you don't need to manually call it.\n",
    "\n",
    "There are [many commonly used loss functions](https://pytorch.org/docs/stable/nn.html#loss-functions) defined in the `torch.nn` module, and you can also implement your own using PyTorch operations. \n",
    "\n",
    "Your task is to instantiate the CE loss function."
   ]
  },
  {
   "cell_type": "code",
   "execution_count": null,
   "metadata": {},
   "outputs": [],
   "source": [
    "# Define the loss fuction.\n",
    "criterion = ...  ### WRITE YOUR CODE HERE"
   ]
  },
  {
   "cell_type": "markdown",
   "metadata": {},
   "source": [
    "## 1.9 Optimizer\n",
    "We are at step (4) of the pipeline. The [Optimizer](https://pytorch.org/docs/stable/optim.html) updates the weights of the network given their currently computed gradients. It can be a simple state-less function (such as SGD) or a more advanced one that keeps track of additional information about the weights and their gradients (such as a running mean), which can be used for more advanced update rules.\n",
    "\n",
    "We will opt for the simplest case, the state-less Stochastic Gradient Descent. Your task is to instantiate this optimizer for the parameters (:= weights) of our model, please refer to [`torch.optim.SGD`](https://pytorch.org/docs/stable/generated/torch.optim.SGD.html#torch.optim.SGD). We will also need to define it's learning rate."
   ]
  },
  {
   "cell_type": "code",
   "execution_count": null,
   "metadata": {},
   "outputs": [],
   "source": [
    "learning_rate = 1e-1\n",
    "optimizer = ...  ### WRITE YOUR CODE HERE"
   ]
  },
  {
   "attachments": {},
   "cell_type": "markdown",
   "metadata": {},
   "source": [
    "## 1.10 Training loop\n",
    "\n",
    "We are at step (5) of our pipeline. We would like to define a training loop where we iterate over the training samples, predict the outputs, and update the model based on its errors. Let us define a function `train_model()` that will be used for training any network architecture we come up with.\n",
    "\n",
    "Fill in the code that follows the steps 5.2 - 5.6 of our training pipeline. For running the backward pass, use the function [`backward()`](https://pytorch.org/docs/stable/generated/torch.autograd.backward.html#torch.autograd.backward). For zeroing out the accumulated gradients, use the function [`zero_grad()`](https://pytorch.org/docs/stable/generated/torch.nn.Module.html?highlight=zero_grad#torch.nn.Module.zero_grad)."
   ]
  },
  {
   "cell_type": "code",
   "execution_count": null,
   "metadata": {},
   "outputs": [],
   "source": [
    "def train_model(model, criterion, optimizer, dataloader_train, dataloader_test, epochs):\n",
    "    \"\"\" Trains the model for the specified number of epochs on the dataset.\n",
    "\n",
    "    Args:\n",
    "        model: The model to train.\n",
    "        criterion: The loss function.\n",
    "        optimizer: The optimizer to use.\n",
    "        dataloader_train: The DataLoader for the training set.\n",
    "        dataloader_test: The DataLoader for the test set.\n",
    "        epochs: The number of epochs to train for.\n",
    "    \"\"\"\n",
    "    for ep in range(epochs):\n",
    "        # Training.\n",
    "        model.train()\n",
    "        for it, batch in enumerate(dataloader_train):\n",
    "            # 5.1 Load a batch, break it down in images and targets.\n",
    "            x, y = batch\n",
    "\n",
    "            # 5.2 Run forward pass.\n",
    "            logits = ...  ### WRITE YOUR CODE HERE\n",
    "            \n",
    "            # 5.3 Compute loss (using 'criterion').\n",
    "            loss = ...  ### WRITE YOUR CODE HERE\n",
    "            \n",
    "            # 5.4 Run backward pass.\n",
    "            ...  ### WRITE YOUR CODE HERE^\n",
    "            \n",
    "            # 5.5 Update the weights using 'optimizer'.\n",
    "            ...  ### WRITE YOUR CODE HERE\n",
    "            \n",
    "            # 5.6 Zero-out the accumulated gradients.\n",
    "            ...  ### WRITE YOUR CODE HERE^\n",
    "\n",
    "            print('\\rEp {}/{}, it {}/{}: loss train: {:.2f}, accuracy train: {:.2f}'.\n",
    "                  format(ep + 1, epochs, it + 1, len(dataloader_train), loss,\n",
    "                         accuracy(logits, y)), end='')\n",
    "\n",
    "        # Validation.\n",
    "        model.eval()\n",
    "        with torch.no_grad():\n",
    "            acc_run = 0\n",
    "            for it, batch in enumerate(dataloader_test):\n",
    "                # Get batch of data.\n",
    "                x, y = batch\n",
    "                curr_bs = x.shape[0]\n",
    "                acc_run += accuracy(model(x), y) * curr_bs\n",
    "            acc = acc_run / len(dataloader_test.dataset)\n",
    "\n",
    "            print(', accuracy test: {:.2f}'.format(acc))"
   ]
  },
  {
   "cell_type": "markdown",
   "metadata": {},
   "source": [
    "### Training the model"
   ]
  },
  {
   "cell_type": "markdown",
   "metadata": {},
   "source": [
    "Let's now use everything that we have prepared to train our model on MNIST:"
   ]
  },
  {
   "cell_type": "code",
   "execution_count": null,
   "metadata": {},
   "outputs": [],
   "source": [
    "epochs = 5\n",
    "train_model(model_fc, criterion, optimizer, dataloader_train, dataloader_test, epochs)"
   ]
  },
  {
   "cell_type": "markdown",
   "metadata": {},
   "source": [
    "# 2 Convolutional Neural Networks (CNNs)\n",
    "\n",
    "Our 4-layer MLP network works well, reaching a test accuracy of ~0.96. However, this network uses ~0.5M weights. We can use even deeper architectures with fewer parameters and take advantage of the 2D structure of the input data (images) using CNNs.\n",
    "\n",
    "## 2.1 LeNet-5\n",
    "\n",
    "Let us define a simple CNN with 2 convolutional layers with max-pooling and 3 Fully-Connected (FC) layers. In particular, we will implement a variant of the architecture called [LeNet-5 introduced by Yann LeCun in 1999](http://yann.lecun.com/exdb/publis/pdf/lecun-99.pdf). \n",
    "\n",
    "\n",
    "Your task is to define a simple LeNet-5 architecture depicted in the figure below. Print the architecture and comment on the number of parameters. Finally train the model. To specify the layers, please additionally refer to [`nn.Conv2d`](https://pytorch.org/docs/stable/generated/torch.nn.Conv2d.html#torch.nn.Conv2d) and [`F.max_pool2d`](https://pytorch.org/docs/stable/generated/torch.nn.functional.max_pool2d.html?highlight=functional+max+pool+2d).\n",
    "\n",
    "### A word about **padding**\n",
    "As you saw in the lecture, a convolution will decrease the size of the signal if we only consider the *valid* convolutions, i.e. when the kernel (or mask) is fully within the input signal. In order to avoid this, we can allow the kernel to go slightly beyond the original signal by padding it with zeros at its beginning and end.\n",
    "\n",
    "To visualize this, imagine a 1D signal of size $4$ and a kernel of size $3$: we can move the kernel on the input only twice, and the output will then have a size of $2$. However, if we add one $0$ at the beginning and at the end of the input, therefore changing its effective size to $6$, the kernel will be able to move four times over it, which will give an output of size $4$, the same as the original input.\n",
    "\n",
    "**Notes for the implementation:**\n",
    "* a kernel of size $k$ will lead to a decrease in the size of feature maps by $k-1$, so we should pad with zeros each side by $(k-1)/2$\n",
    "* we want to use the max-pooling to reduce the size by 2, so its `kernel_size` should be 2\n",
    "* to go from convolutional to fully-connected layers, we need to reshape the tensor\n",
    "\n",
    "<img src=\"img/lenet5.png\" width=800></img>"
   ]
  },
  {
   "cell_type": "code",
   "execution_count": null,
   "metadata": {},
   "outputs": [],
   "source": [
    "class CNN_LeNet(nn.Module):\n",
    "    \"\"\" CNN expects inputs of shape (1, 28, 28).\n",
    "    The initial 1 corresponds to the number of channel:\n",
    "    here 1 for the grayscale value.\n",
    "    \"\"\"\n",
    "    def __init__(self):\n",
    "        super(CNN_LeNet, self).__init__()\n",
    "\n",
    "        ### WRITE YOUR CODE HERE\n",
    "        self.conv2d1 = ...\n",
    "        self.conv2d2 = ...\n",
    "        self.fc1 = ...\n",
    "        self.fc2 = ...\n",
    "        self.fc3 = ...\n",
    "\n",
    "    def forward(self, x):\n",
    "        ### WRITE YOUR CODE HERE\n",
    "        ...\n",
    "        return ...\n",
    "    \n",
    "# Instantiate the model.\n",
    "model_lenet = CNN_LeNet()"
   ]
  },
  {
   "attachments": {},
   "cell_type": "markdown",
   "metadata": {},
   "source": [
    "**Q:** What is the number of trainable parameters in our LeNet model?\n",
    "\n",
    "**A:** "
   ]
  },
  {
   "cell_type": "markdown",
   "metadata": {},
   "source": [
    "Let us check the architecture again and the number of trainable parameters. We can directly see that this architecture needs just about 20% of the parameters the MLP used."
   ]
  },
  {
   "cell_type": "code",
   "execution_count": null,
   "metadata": {},
   "outputs": [],
   "source": [
    "model_lenet(torch.randn(1, 1, 28, 28)).shape"
   ]
  },
  {
   "cell_type": "code",
   "execution_count": null,
   "metadata": {},
   "outputs": [],
   "source": [
    "# Print out the architecture and check the number of parameters.\n",
    "summary(model_lenet, input_size=(1, 1, 28, 28))"
   ]
  },
  {
   "cell_type": "markdown",
   "metadata": {},
   "source": [
    "We can now again train our model. As the `train_model()` function we wrote is agnostic to the network used, and because PyTorch automatically computes the gradient for us, we can directly reuse it with our CNN.\n",
    "\n",
    "However, we do need to define a new optimizer to apply SGD to the weights of our new model!"
   ]
  },
  {
   "cell_type": "code",
   "execution_count": null,
   "metadata": {},
   "outputs": [],
   "source": [
    "# Train the model\n",
    "epochs = 5\n",
    "learning_rate = 1e-1\n",
    "optimizer_lenet = ...  ### WRITE YOUR CODE HERE\n",
    "train_model(model_lenet, criterion, optimizer_lenet, dataloader_train, dataloader_test, epochs)"
   ]
  },
  {
   "cell_type": "markdown",
   "metadata": {},
   "source": [
    "## 2.2 3-layered CNN\n",
    "\n",
    "Let us now define an even deeper CNN with 3 convolutional layers and only 2 FC layers. This network should reach higher accuracy (or converge faster) and still use fewer parameters than the previous architectures.\n",
    "\n",
    "Your task is to implement a 3-layer CNN as depicted in the figure below. Check the number of parameters using `torchinfo`. Train the model and play around with the number of filters (kernels) used by every layer. Comment on your findings.\n",
    "\n",
    "<img src=\"img/cnn.png\" width=800></img>"
   ]
  },
  {
   "cell_type": "code",
   "execution_count": null,
   "metadata": {},
   "outputs": [],
   "source": [
    "class CNN(nn.Module):\n",
    "    \"\"\" CNN, expects input shape (1, 28, 28).\n",
    "    \"\"\"\n",
    "    def __init__(self, filters=(16, 32, 64)):\n",
    "        \"\"\"\n",
    "        Args\n",
    "        ----\n",
    "        filters: tuple or list of 3 integers\n",
    "            The number of filters (:=kernels) used in the network.\n",
    "            See the above image for reference.\n",
    "        \"\"\"\n",
    "        super(CNN, self).__init__()\n",
    "\n",
    "        ### WRITE YOUR CODE HERE\n",
    "        self.conv2d1 = ...\n",
    "        ...\n",
    "\n",
    "    def forward(self, x):\n",
    "        ### WRITE YOUR CODE HERE\n",
    "        ...\n",
    "        return ...\n",
    "\n",
    "# Instantiate the model.\n",
    "filters = (16, 32, 64)\n",
    "model_cnn = CNN(filters)"
   ]
  },
  {
   "cell_type": "code",
   "execution_count": null,
   "metadata": {},
   "outputs": [],
   "source": [
    "# Print out the architecture and number of parameters.\n",
    "summary(model_cnn, input_size=(1, 1, 28, 28))"
   ]
  },
  {
   "cell_type": "markdown",
   "metadata": {},
   "source": [
    "And again, we train our new model by reusing the same dataset, criterion, and training function, but with a new optimizer defined for this new model:"
   ]
  },
  {
   "cell_type": "code",
   "execution_count": null,
   "metadata": {},
   "outputs": [],
   "source": [
    "# Train the model.\n",
    "learning_rate = 1e-1\n",
    "optimizer_cnn = ...  ### WRITE YOUR CODE HERE\n",
    "train_model(model_cnn, criterion, optimizer_cnn, dataloader_train, dataloader_test, epochs)"
   ]
  },
  {
   "attachments": {},
   "cell_type": "markdown",
   "metadata": {},
   "source": [
    "## 2.3 Trying out your own input\n",
    "\n",
    "We have provided a tool for you to draw your own digits and test your network. Play around with the inputs to get a sense of how accurate your model is. Use the button `reset` to reset the canvas and `predict` to run the prediction on the current canvas image. You can use the button `blur` to blur your drawn image so that it looks closer to the samples from the training set.\n",
    "\n",
    "**Note:** the following cell may not work properly if VS Code or jupyter lab."
   ]
  },
  {
   "cell_type": "code",
   "execution_count": null,
   "metadata": {},
   "outputs": [],
   "source": [
    "dp = DrawingPad((28, 28), model_lenet)"
   ]
  },
  {
   "cell_type": "markdown",
   "metadata": {},
   "source": [
    "# 3 Build your own model (Optional)\n",
    "\n",
    "In this part, we prepared some empty model definition for you. You can use it to build your own model and test it on MNIST!"
   ]
  },
  {
   "cell_type": "code",
   "execution_count": null,
   "metadata": {},
   "outputs": [],
   "source": [
    "class MyModel(nn.Module):\n",
    "    \"\"\" Build your own model.\n",
    "    It should take as input images of shape (1, 28, 28).\n",
    "    \"\"\"\n",
    "    def __init__(self):\n",
    "        \"\"\"\n",
    "        Initialize your model.\n",
    "        \n",
    "        Feel free to add argument if you want to.\n",
    "        \"\"\"\n",
    "        super(MyModel, self).__init__()\n",
    "\n",
    "        ### WRITE YOUR CODE HERE\n",
    "        ...\n",
    "\n",
    "    def forward(self, x):\n",
    "        \"\"\"Write the forward pass.\"\"\"\n",
    "        ### WRITE YOUR CODE HERE\n",
    "        return ...\n",
    "\n",
    "# Instantiate the model and print its architecture.\n",
    "my_model = MyModel()\n",
    "summary(my_model, input_size=(1, 1, 28, 28))"
   ]
  },
  {
   "cell_type": "code",
   "execution_count": null,
   "metadata": {},
   "outputs": [],
   "source": [
    "# Train your model.\n",
    "learning_rate = 1e-1\n",
    "my_optimizer = ...  ### WRITE YOUR CODE HERE\n",
    "train_model(my_model, criterion, my_optimizer, dataloader_train, dataloader_test, epochs)"
   ]
  },
  {
   "cell_type": "markdown",
   "metadata": {},
   "source": [
    "# 4 Written questions"
   ]
  },
  {
   "attachments": {},
   "cell_type": "markdown",
   "metadata": {},
   "source": [
    "**Q.1** (MCQ) Which of the following statements is/are correct?\n",
    "\n",
    "1. Gradient Descent updates the weights of the network in the direction opposite to the gradient of the loss function.\n",
    "2. The primary role of an activation function is to introduce non-linearity into the deep network.\n",
    "3. Strided convolution (stride > 1) is used to increase the size of the feature maps.\n",
    "4. Max pooling has learnable parameters.\n",
    "\n",
    "**A.1** "
   ]
  },
  {
   "attachments": {},
   "cell_type": "markdown",
   "metadata": {},
   "source": [
    "**Q.2** What advantages do CNN have over MLP? Can we always use a CNN instead of an MLP?\n",
    "\n",
    "**A.2** "
   ]
  },
  {
   "attachments": {},
   "cell_type": "markdown",
   "metadata": {},
   "source": [
    "**Q.3** Consider the following 1D signal:\n",
    "\n",
    "$$[-1, 4, -6, 0, 3, 2, 1, -3, 5]$$\n",
    "\n",
    "What is the output of the 1D convolution with the mask $w$ and $\\texttt{stride=2}$ (no padding is used)?\n",
    "\n",
    "$$w = [-1, 2, 1]$$\n",
    "\n",
    "**A.3** "
   ]
  },
  {
   "attachments": {},
   "cell_type": "markdown",
   "metadata": {},
   "source": [
    "**Q.4** Imagine you have a CNN that you use to classify greyscale images of animals, where each image is of size $128\\times128\\times1$. You then receive an updated version of that dataset where the images are in color, so they have now three channel: Red, Green, and Blue.\n",
    "\n",
    "What is the new shape of the images? What minial change to your CNN can you do to make it accept and use this new color information?\n",
    "\n",
    "**A.4** "
   ]
  }
 ],
 "metadata": {
  "kernelspec": {
   "display_name": "Python 3 (ipykernel)",
   "language": "python",
   "name": "python3"
  },
  "language_info": {
   "codemirror_mode": {
    "name": "ipython",
    "version": 3
   },
   "file_extension": ".py",
   "mimetype": "text/x-python",
   "name": "python",
   "nbconvert_exporter": "python",
   "pygments_lexer": "ipython3",
   "version": "3.9.7"
  }
 },
 "nbformat": 4,
 "nbformat_minor": 4
}
